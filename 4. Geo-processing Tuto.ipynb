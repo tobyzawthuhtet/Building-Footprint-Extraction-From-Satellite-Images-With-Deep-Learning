{
 "cells": [
  {
   "cell_type": "code",
   "execution_count": 4,
   "id": "75bda633",
   "metadata": {},
   "outputs": [],
   "source": [
    "import geo_process"
   ]
  },
  {
   "cell_type": "code",
   "execution_count": 10,
   "id": "e677c448",
   "metadata": {},
   "outputs": [],
   "source": [
    "from geo_process import geo_ref,to_shapefile"
   ]
  },
  {
   "cell_type": "code",
   "execution_count": 6,
   "id": "3c823b62",
   "metadata": {
    "scrolled": true
   },
   "outputs": [
    {
     "name": "stdout",
     "output_type": "stream",
     "text": [
      "Help on module geo_process:\n",
      "\n",
      "NAME\n",
      "    geo_process - # coding: utf-8\n",
      "\n",
      "FUNCTIONS\n",
      "    geo_ref(ref_image_dir, target_image_dir, output_image_dir)\n",
      "        Georeferencing an image \n",
      "        - \n",
      "        \n",
      "        arguments:\n",
      "            ref_image_dir (str): original geotiff image directory// Example \"C:\\Desktop\\OriginalImage.tif\"\n",
      "            target_image_dir (str): predicted image directory // Example \"C:\\Desktop\\PredictedImage.png\"\n",
      "            output_image_dir(str) : georeferenced predicted image // Example \"C:\\Desktop\\PredictedImage_Georef.tif\"\n",
      "        returns:\n",
      "            georeferenced predicted image (numpy)\n",
      "    \n",
      "    to_shapefile(imageDir, outputShapefile)\n",
      "        Arguments :\n",
      "            imageDir(str) : input geotif image\n",
      "            outputShapefile(str) : output shapefile \n",
      "        Returns:\n",
      "            null\n",
      "\n",
      "DATA\n",
      "    __warningregistry__ = {'version': 19}\n",
      "\n",
      "FILE\n",
      "    c:\\users\\toby\\desktop\\building-footprint-extraction-practical-project-toby\\building-footprint-extraction-practical-project-toby\\modules\\geo_process.py\n",
      "\n",
      "\n"
     ]
    }
   ],
   "source": [
    "help(geo_process)"
   ]
  },
  {
   "cell_type": "markdown",
   "id": "562c908b",
   "metadata": {},
   "source": [
    "# Declaring Path"
   ]
  },
  {
   "cell_type": "code",
   "execution_count": 7,
   "id": "32a221f9",
   "metadata": {},
   "outputs": [],
   "source": [
    "\n",
    "ref_img =r\"C:\\Users\\Toby\\Desktop\\Building-Footprint-Extraction-Practical-Project-toby\\Building-Footprint-Extraction-Practical-Project-toby\\dataset\\Annotation Data\\Labelme Output data\\Clip_final_hlaing_thar_yar1.tif\"\n",
    "target_img=r\"C:\\Users\\Toby\\Desktop\\Building-Footprint-Extraction-Practical-Project-toby\\Building-Footprint-Extraction-Practical-Project-toby\\dataset\\Annotation Data\\Labelme Output data\\label.png\"\n"
   ]
  },
  {
   "cell_type": "code",
   "execution_count": 8,
   "id": "34eae9cf",
   "metadata": {},
   "outputs": [
    {
     "data": {
      "text/plain": [
       "array([[0, 0, 0, ..., 0, 0, 0],\n",
       "       [0, 0, 0, ..., 0, 0, 0],\n",
       "       [0, 0, 0, ..., 0, 0, 0],\n",
       "       ...,\n",
       "       [0, 0, 0, ..., 0, 0, 0],\n",
       "       [0, 0, 0, ..., 0, 0, 0],\n",
       "       [0, 0, 0, ..., 0, 0, 0]], dtype=uint8)"
      ]
     },
     "execution_count": 8,
     "metadata": {},
     "output_type": "execute_result"
    }
   ],
   "source": [
    "\n",
    "geo_ref(ref_img,target_img,'geo_referenced_img.tif')"
   ]
  },
  {
   "cell_type": "code",
   "execution_count": 11,
   "id": "54b3a926",
   "metadata": {},
   "outputs": [],
   "source": [
    "\n",
    "#run the module \n",
    "to_shapefile('geo_referenced_img.tif','final_vector')"
   ]
  },
  {
   "cell_type": "code",
   "execution_count": null,
   "id": "3ceb97fb",
   "metadata": {},
   "outputs": [],
   "source": []
  }
 ],
 "metadata": {
  "kernelspec": {
   "display_name": "Python 3",
   "language": "python",
   "name": "python3"
  },
  "language_info": {
   "codemirror_mode": {
    "name": "ipython",
    "version": 3
   },
   "file_extension": ".py",
   "mimetype": "text/x-python",
   "name": "python",
   "nbconvert_exporter": "python",
   "pygments_lexer": "ipython3",
   "version": "3.8.11"
  }
 },
 "nbformat": 4,
 "nbformat_minor": 5
}
